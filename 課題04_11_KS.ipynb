{
  "nbformat": 4,
  "nbformat_minor": 0,
  "metadata": {
    "colab": {
      "provenance": [],
      "include_colab_link": true
    },
    "kernelspec": {
      "name": "python3",
      "display_name": "Python 3"
    },
    "language_info": {
      "name": "python"
    }
  },
  "cells": [
    {
      "cell_type": "markdown",
      "metadata": {
        "id": "view-in-github",
        "colab_type": "text"
      },
      "source": [
        "<a href=\"https://colab.research.google.com/github/kariya-v2/Portfolio/blob/main/%E8%AA%B2%E9%A1%8C04_11_KS.ipynb\" target=\"_parent\"><img src=\"https://colab.research.google.com/assets/colab-badge.svg\" alt=\"Open In Colab\"/></a>"
      ]
    },
    {
      "cell_type": "markdown",
      "source": [
        "# **プログラムの名称**\n",
        "##古典暗号\n",
        "## **概要**\n",
        "シーザー暗号、単一換字式暗号、エニグマ暗号を模したプログラムです。暗号化したい文を入れると暗号化されて出てきます。暗号化はアルファベットのみ対応してます。\n",
        "\n",
        "\n",
        "## **操作方法**\n",
        "操作方法は暗号化したいものを入力するだけです。シーザー暗号の場合はずらしたい分の数字を入力もしてください。エニグマ暗号の場合なぜか日本語も暗号化されるので注意してください。\n",
        "\n",
        "## **制作者のコメント**\n",
        "基本的にネットやGPTを参考にせざるを得なかったので自分の要素がほとんどないです。でも、pythonの理解度が格段に上がったので気分は上々です。次に同じような課題などがあればできるだけ自身の知識だけを頼りにプログラミングしたい所存です。\n",
        "また、今回作成したプログラムはアルファベットだけじゃなくて日本語も対応させてみたかったです。もっと早くに取り掛かってればテストが来る前に理想の完成形に近づいてたんだろうなと思いました。\n",
        "\n",
        "## **作成時間**\n",
        "\n",
        "作成時間：**約17時間**"
      ],
      "metadata": {
        "id": "EnMqIC7OaqQh"
      }
    },
    {
      "cell_type": "code",
      "source": [
        "from google.colab import drive\n",
        "drive.mount('/content/drive')"
      ],
      "metadata": {
        "colab": {
          "base_uri": "https://localhost:8080/"
        },
        "id": "IjAQLQ1K4Tyq",
        "outputId": "5243623f-5cb0-4238-9b49-9bb9877e4982"
      },
      "execution_count": 2,
      "outputs": [
        {
          "output_type": "stream",
          "name": "stdout",
          "text": [
            "Drive already mounted at /content/drive; to attempt to forcibly remount, call drive.mount(\"/content/drive\", force_remount=True).\n"
          ]
        }
      ]
    },
    {
      "cell_type": "markdown",
      "source": [
        "###シーザー暗号"
      ],
      "metadata": {
        "id": "oZcuNaFYx7qQ"
      }
    },
    {
      "cell_type": "code",
      "source": [
        "alphabet = 'ABCDEFGHIJKLMNOPQRSTUVWXYZ' #アルファベットの集合\n",
        "def caesar_cipher_encrypt(text, shift):\n",
        "    encrypted_text = \"\"      #暗号化したものを入れる変数\n",
        "    for char in text:        #一文字ずつ暗号化\n",
        "        if char.isalpha(): #A～Zの大文字のアルファベットであるかを判別\n",
        "            char = char.upper()\n",
        "            encrypted_char = chr((ord(char) - ord('A') + shift) % 26 + ord('A')) #文字をユニコードポイントに変換し、ずらしたい数字を足して、文字に変換\n",
        "            encrypted_text += encrypted_char      #暗号化したものを足す\n",
        "        else:\n",
        "            encrypted_text += \"text\" #アルファベット以外はそのまま出力\n",
        "    return encrypted_text\n",
        "\n",
        "#入力部分\n",
        "hirabun = input(\"暗号化したい文を入力 (アルファベットのみ) : \")\n",
        "shift = int(input(\"ずらしたい数字を入力 : \"))\n",
        "\n",
        "#出力部分\n",
        "encrypted_text = caesar_cipher_encrypt(hirabun, shift)\n",
        "print(f\"暗号文 -{encrypted_text}-\")"
      ],
      "metadata": {
        "colab": {
          "base_uri": "https://localhost:8080/"
        },
        "id": "BV5WjXhawa9p",
        "outputId": "5afef842-d44c-4227-e0aa-50cd8c2c38b4"
      },
      "execution_count": null,
      "outputs": [
        {
          "output_type": "stream",
          "name": "stdout",
          "text": [
            "暗号化したい文を入力 (アルファベットのみ) : aaasasas\n",
            "ずらしたい数字を入力 : 3\n",
            "暗号文 -DDDVDVDV-\n"
          ]
        }
      ]
    },
    {
      "cell_type": "markdown",
      "source": [
        "##単一換字式暗号"
      ],
      "metadata": {
        "id": "WnZ4jKPlHqws"
      }
    },
    {
      "cell_type": "code",
      "source": [
        "import random\n",
        "\n",
        "def generate_substitution_cipher():\n",
        "    shuffled = list('ABCDEFGHIJKLMNOPQRSTUVWXYZ') #アルファベットのリストの作成\n",
        "    random.shuffle(shuffled) #リストをシャッフル\n",
        "    # 辞書を作成\n",
        "    cipher_dict = {alphabet[i]: shuffled[i] for i in range(len(alphabet))}\n",
        "    return cipher_dict\n",
        "\n",
        "def encrypt(message, cipher_dict):\n",
        "    encrypted_message = ''   #暗号文を入れる変数\n",
        "    for char in message:\n",
        "        if char.upper() in cipher_dict:  #アルファベットであるかを判別\n",
        "            # 大文字のアルファベットを対応表から変換\n",
        "            if char.isupper():\n",
        "                encrypted_message += cipher_dict[char]\n",
        "            # 小文字のアルファベットを対応表から変換\n",
        "            else:\n",
        "                encrypted_message += cipher_dict[char.upper()].lower()\n",
        "        else:\n",
        "            encrypted_message += char  # アルファベット以外はそのまま出力\n",
        "    return encrypted_message\n",
        "\n",
        "#入力部分\n",
        "message = input(\"暗号化したい文を入力 (アルファベットのみ) : \")\n",
        "\n",
        "#出力部分\n",
        "cipher_dict = generate_substitution_cipher()\n",
        "print(\"対応表:\", cipher_dict)\n",
        "\n",
        "encrypted_message = encrypt(message, cipher_dict)\n",
        "print(f\"暗号文 -{encrypted_message}-\")\n"
      ],
      "metadata": {
        "colab": {
          "base_uri": "https://localhost:8080/"
        },
        "id": "7mrPlWz-HntU",
        "outputId": "baa1c88b-e5dd-4ed4-81fb-1ed2e502f224"
      },
      "execution_count": null,
      "outputs": [
        {
          "output_type": "stream",
          "name": "stdout",
          "text": [
            "暗号化したい文を入力 (アルファベットのみ) : aaddw333\n",
            "対応表: {'A': 'X', 'B': 'N', 'C': 'O', 'D': 'F', 'E': 'E', 'F': 'Q', 'G': 'G', 'H': 'B', 'I': 'A', 'J': 'C', 'K': 'P', 'L': 'W', 'M': 'V', 'N': 'H', 'O': 'U', 'P': 'D', 'Q': 'T', 'R': 'I', 'S': 'L', 'T': 'Z', 'U': 'M', 'V': 'Y', 'W': 'R', 'X': 'K', 'Y': 'S', 'Z': 'J'}\n",
            "暗号文 -xxffr333-\n"
          ]
        }
      ]
    },
    {
      "cell_type": "markdown",
      "source": [
        "##エニグマ暗号"
      ],
      "metadata": {
        "id": "GLo1R4zRZ_pa"
      }
    },
    {
      "cell_type": "code",
      "source": [
        "\n",
        "#ローター(文字変換するところ)のクラス\n",
        "class Rotor:\n",
        "    def __init__(self, wiring, notch):\n",
        "        self.wiring = wiring\n",
        "        self.notch = notch\n",
        "        self.position = 0\n",
        "\n",
        "    #初期位置の設定\n",
        "    def set_position(self, position):\n",
        "        self.position = position\n",
        "\n",
        "    #ローターの回転\n",
        "    def rotate(self):\n",
        "        self.position = (self.position + 1) % 26\n",
        "\n",
        "    #文字変換する部分\n",
        "    def encrypt(self, letter):\n",
        "        index = (ord(letter) - ord('A') + self.position) % 26  # ローターの位置を考慮して文字を数値に変換\n",
        "        encrypted_letter = self.wiring[index]\n",
        "        return chr((ord(encrypted_letter) - ord('A') - self.position) % 26 + ord('A'))\n",
        "\n",
        "    #今のローターが回転して特定の文字に達すると隣のローターが回転する部分\n",
        "    def at_notch(self):\n",
        "        return self.wiring[self.position] == self.notch\n",
        "\n",
        "#リフレクター(折り返すところ)のクラス\n",
        "class Reflector:\n",
        "    def __init__(self, wiring):\n",
        "        self.wiring = wiring\n",
        "\n",
        "    #文字変換する部分\n",
        "    def reflect(self, letter):\n",
        "        index = ord(letter.upper()) - ord('A')\n",
        "        if 0 <= index < len(self.wiring):  #アルファベットであるか判断する\n",
        "            return self.wiring[index]\n",
        "        else:\n",
        "            return letter\n",
        "\n",
        "#プラグボード(最初に対になる文字を入れ替えるところ)のクラス\n",
        "class Plugboard:\n",
        "    def __init__(self, connections):\n",
        "        self.connections = connections\n",
        "    #文字を入れ替える部分\n",
        "    def swap(self, letter):\n",
        "        return self.connections.get(letter, letter)\n",
        "\n",
        "#エニグマのクラス\n",
        "class EnigmaMachine:\n",
        "    def __init__(self, rotors, reflector, plugboard):\n",
        "        self.rotors = rotors\n",
        "        self.reflector = reflector\n",
        "        self.plugboard = plugboard\n",
        "\n",
        "    #ローターの位置を設定する部分\n",
        "    def set_rotor_positions(self, positions):\n",
        "        for rotor, position in zip(self.rotors, positions):\n",
        "            rotor.set_position(position)\n",
        "\n",
        "    #暗号化部分\n",
        "    def encrypt(self, message):\n",
        "        encrypted_message = []\n",
        "        if message.isalpha():\n",
        "\n",
        "            if letter.isalpha():  # アルファベットのみ処理\n",
        "                letter = letter.upper()\n",
        "\n",
        "                # プラグボードを通過\n",
        "                letter = self.plugboard.swap(letter)\n",
        "\n",
        "                # 各ローターを通過させる\n",
        "                for rotor in self.rotors:\n",
        "                    letter = rotor.encrypt(letter)\n",
        "\n",
        "                # リフレクターを通過\n",
        "                letter = self.reflector.reflect(letter)\n",
        "\n",
        "                # 各ローターを逆に通過させる\n",
        "                for rotor in reversed(self.rotors):\n",
        "                    letter = rotor.encrypt(letter)\n",
        "\n",
        "                encrypted_message.append(letter)  # 暗号化された文字をリストに追加\n",
        "\n",
        "                # ローターを回転させる\n",
        "                for i in range(len(self.rotors)):\n",
        "                    self.rotors[i].rotate()\n",
        "                    if not self.rotors[i].at_notch(): #一つのローターだけが回転\n",
        "                        break\n",
        "            else:\n",
        "                encrypted_message.append(letter)  # アルファベット以外はそのまま出力\n",
        "        return ''.join(encrypted_message)\n",
        "\n",
        "# ローターの配線とリフレクターの設定(お好みのアルファベットの順番)\n",
        "rotor1 = Rotor(\"EKMFLGDQVZNTOWYHXUSPAIBRCJ\", 'Q') #この設定なら左の文字列がローターの配線部分、Qまで回転するたびにrotor2が一回回転する\n",
        "rotor2 = Rotor(\"AJDKSIRUXBLHWTMCQGZNPYFVOE\", 'E')\n",
        "rotor3 = Rotor(\"BDFHJLCPRTXVZNYEIWGAKMUSQO\", 'V')\n",
        "reflector = Reflector(\"YRUHQSLDPXNGOKIETZJWVFMCB\")\n",
        "\n",
        "# プラグボードの設定(好きなように追加してもよい)\n",
        "plugboard_connections = {\n",
        "    'A': 'B',\n",
        "    'B': 'A',\n",
        "    'C': 'D',\n",
        "    'D': 'C'\n",
        "}\n",
        "plugboard = Plugboard(plugboard_connections)\n",
        "\n",
        "# エニグマ機の初期化\n",
        "enigma = EnigmaMachine([rotor1, rotor2, rotor3], reflector, plugboard)\n",
        "\n",
        "# ローターの初期位置を設定\n",
        "initial_positions = [0, 0, 0]\n",
        "enigma.set_rotor_positions(initial_positions)\n",
        "\n",
        "# メッセージの暗号化\n",
        "message = input(\"暗号化したい文を入力 (アルファベットのみ) : \")\n",
        "encrypted_message = enigma.encrypt(message)\n",
        "print(f\"暗号文 - {encrypted_message} -\")"
      ],
      "metadata": {
        "colab": {
          "base_uri": "https://localhost:8080/"
        },
        "id": "cIfEzqCSxZGl",
        "outputId": "8b8a4ffd-f8fd-4b08-85ca-676ccfd4cb66"
      },
      "execution_count": null,
      "outputs": [
        {
          "output_type": "stream",
          "name": "stdout",
          "text": [
            "暗号化したい文を入力 (アルファベットのみ) : aAあ\n",
            "暗号文 - QLQ -\n"
          ]
        }
      ]
    }
  ]
}